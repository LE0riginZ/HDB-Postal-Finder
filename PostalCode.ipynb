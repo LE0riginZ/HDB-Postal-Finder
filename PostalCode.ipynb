{
 "cells": [
  {
   "cell_type": "code",
   "execution_count": null,
   "metadata": {},
   "outputs": [],
   "source": [
    "import pandas as pd\n",
    "import requests\n",
    "from bs4 import BeautifulSoup"
   ]
  },
  {
   "cell_type": "code",
   "execution_count": null,
   "metadata": {},
   "outputs": [],
   "source": [
    "csv_file_path = 'HDBPropertyInformation.csv' \n",
    "df = pd.read_csv(csv_file_path)\n",
    "df.head()"
   ]
  },
  {
   "cell_type": "code",
   "execution_count": null,
   "metadata": {},
   "outputs": [],
   "source": [
    "def get_postal_code(street_name, block):\n",
    "    # Construct the search query for the OneMap API\n",
    "    query = f\"{block} {street_name}\"\n",
    "    print(query)\n",
    "    url = f\"https://www.onemap.gov.sg/api/common/elastic/search?searchVal={query}&returnGeom=Y&getAddrDetails=Y&pageNum=1\"\n",
    "\n",
    "    # Make the API request\n",
    "    response = requests.get(url)\n",
    "    data = response.json()\n",
    "\n",
    "    # Extract postal code from the response\n",
    "    if data[\"found\"] > 0:\n",
    "        print(data[\"results\"][0][\"POSTAL\"])\n",
    "        return data[\"results\"][0][\"POSTAL\"]\n",
    "    else:\n",
    "        return None\n"
   ]
  },
  {
   "cell_type": "code",
   "execution_count": null,
   "metadata": {},
   "outputs": [],
   "source": [
    "# Iterate through rows and get postal codes\n",
    "postal_codes = []\n",
    "for index, row in df.iterrows():\n",
    "    street_name = row['street']\n",
    "    block = row['blk_no']\n",
    "    \n",
    "    try:\n",
    "        postal_code = get_postal_code(street_name, block)\n",
    "    except Exception as e:\n",
    "        print(f\"Error processing address ({street_name}, {block}): {e}\")\n",
    "        postal_code = None  # or handle the error in a different way if needed\n",
    "\n",
    "    postal_codes.append(postal_code)"
   ]
  },
  {
   "cell_type": "code",
   "execution_count": null,
   "metadata": {},
   "outputs": [],
   "source": [
    "# Add the postal codes to the DataFrame\n",
    "df['PostalCode'] = postal_codes"
   ]
  },
  {
   "cell_type": "code",
   "execution_count": null,
   "metadata": {},
   "outputs": [],
   "source": [
    "# Save the updated DataFrame to a new CSV file\n",
    "output_csv_path = 'output_file.csv'  # Replace with the desired output file path\n",
    "df.to_csv(output_csv_path, index=False)\n",
    "print(\"Postal codes added and saved to:\", output_csv_path)"
   ]
  }
 ],
 "metadata": {
  "kernelspec": {
   "display_name": "base",
   "language": "python",
   "name": "python3"
  },
  "language_info": {
   "codemirror_mode": {
    "name": "ipython",
    "version": 3
   },
   "file_extension": ".py",
   "mimetype": "text/x-python",
   "name": "python",
   "nbconvert_exporter": "python",
   "pygments_lexer": "ipython3",
   "version": "3.10.9"
  },
  "orig_nbformat": 4
 },
 "nbformat": 4,
 "nbformat_minor": 2
}
